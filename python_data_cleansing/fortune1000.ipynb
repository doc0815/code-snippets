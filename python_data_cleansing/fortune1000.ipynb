{
 "cells": [
  {
   "cell_type": "markdown",
   "metadata": {},
   "source": [
    "# Fortune 1000 companies"
   ]
  },
  {
   "cell_type": "markdown",
   "metadata": {},
   "source": [
    "## 1) Read file"
   ]
  },
  {
   "cell_type": "markdown",
   "metadata": {},
   "source": [
    "soure of data file: https://data.world/eruditepanda/fortune-1000-list-2018"
   ]
  },
  {
   "cell_type": "code",
   "execution_count": 1,
   "metadata": {},
   "outputs": [
    {
     "name": "stdout",
     "output_type": "stream",
     "text": [
      "Dataframe has 1000 rows and 19 columns.\n"
     ]
    }
   ],
   "source": [
    "import pandas as pd\n",
    "import numpy as np\n",
    "f1000 = pd.read_csv('fortune1000-final.csv', encoding = 'Latin-1')\n",
    "print('Dataframe has {row} rows and {col} columns.'.format(row = f1000.shape[0], col = f1000.shape[1]))"
   ]
  },
  {
   "cell_type": "markdown",
   "metadata": {},
   "source": [
    "show some basic dataset information"
   ]
  },
  {
   "cell_type": "code",
   "execution_count": 2,
   "metadata": {},
   "outputs": [
    {
     "name": "stdout",
     "output_type": "stream",
     "text": [
      "<class 'pandas.core.frame.DataFrame'>\n",
      "RangeIndex: 1000 entries, 0 to 999\n",
      "Data columns (total 19 columns):\n",
      "Rank                              1000 non-null int64\n",
      "Title                             1000 non-null object\n",
      "Previous Rank                     937 non-null float64\n",
      " Revenues ($M)                    1000 non-null object\n",
      "Revenue Change                    995 non-null object\n",
      " Profits ($M)                     998 non-null object\n",
      "Profit Change                     844 non-null object\n",
      " Assets ($M)                      1000 non-null object\n",
      " Mkt Value as of 3/29/18 ($M)     951 non-null object\n",
      "Employees                         1000 non-null int64\n",
      "CEO                               1000 non-null object\n",
      "CEO Title                         1000 non-null object\n",
      "Sector                            1000 non-null object\n",
      "Industry                          1000 non-null object\n",
      "Years on Fortune 500 List         500 non-null float64\n",
      "City                              999 non-null object\n",
      "State                             1000 non-null object\n",
      " Latitude                         1000 non-null float64\n",
      " Longitude                        1000 non-null object\n",
      "dtypes: float64(3), int64(2), object(14)\n",
      "memory usage: 148.5+ KB\n"
     ]
    }
   ],
   "source": [
    "f1000.info()\n",
    "#f1000.columns\n",
    "#f1000.dtypes"
   ]
  },
  {
   "cell_type": "code",
   "execution_count": 3,
   "metadata": {},
   "outputs": [
    {
     "data": {
      "text/html": [
       "<div>\n",
       "<style>\n",
       "    .dataframe thead tr:only-child th {\n",
       "        text-align: right;\n",
       "    }\n",
       "\n",
       "    .dataframe thead th {\n",
       "        text-align: left;\n",
       "    }\n",
       "\n",
       "    .dataframe tbody tr th {\n",
       "        vertical-align: top;\n",
       "    }\n",
       "</style>\n",
       "<table border=\"1\" class=\"dataframe\">\n",
       "  <thead>\n",
       "    <tr style=\"text-align: right;\">\n",
       "      <th></th>\n",
       "      <th>Rank</th>\n",
       "      <th>Title</th>\n",
       "      <th>Previous Rank</th>\n",
       "      <th>Revenues ($M)</th>\n",
       "      <th>Revenue Change</th>\n",
       "      <th>Profits ($M)</th>\n",
       "      <th>Profit Change</th>\n",
       "      <th>Assets ($M)</th>\n",
       "      <th>Mkt Value as of 3/29/18 ($M)</th>\n",
       "      <th>Employees</th>\n",
       "      <th>CEO</th>\n",
       "      <th>CEO Title</th>\n",
       "      <th>Sector</th>\n",
       "      <th>Industry</th>\n",
       "      <th>Years on Fortune 500 List</th>\n",
       "      <th>City</th>\n",
       "      <th>State</th>\n",
       "      <th>Latitude</th>\n",
       "      <th>Longitude</th>\n",
       "    </tr>\n",
       "  </thead>\n",
       "  <tbody>\n",
       "    <tr>\n",
       "      <th>0</th>\n",
       "      <td>1</td>\n",
       "      <td>Walmart</td>\n",
       "      <td>1.0</td>\n",
       "      <td>$500,343.00</td>\n",
       "      <td>3%</td>\n",
       "      <td>$9,862.00</td>\n",
       "      <td>-28%</td>\n",
       "      <td>$204,522.00</td>\n",
       "      <td>$263,563.00</td>\n",
       "      <td>2300000</td>\n",
       "      <td>C. Douglas McMillon</td>\n",
       "      <td>President, Chief Executive Officer &amp;  Director</td>\n",
       "      <td>Retailing</td>\n",
       "      <td>General Merchandisers</td>\n",
       "      <td>24.0</td>\n",
       "      <td>Bentonville</td>\n",
       "      <td>AR</td>\n",
       "      <td>36.37285</td>\n",
       "      <td>(94.20882)</td>\n",
       "    </tr>\n",
       "    <tr>\n",
       "      <th>1</th>\n",
       "      <td>2</td>\n",
       "      <td>Exxon Mobil</td>\n",
       "      <td>4.0</td>\n",
       "      <td>$244,363.00</td>\n",
       "      <td>17%</td>\n",
       "      <td>$19,710.00</td>\n",
       "      <td>151%</td>\n",
       "      <td>$348,691.00</td>\n",
       "      <td>$316,157.00</td>\n",
       "      <td>71200</td>\n",
       "      <td>Darren W. Woods</td>\n",
       "      <td>Chairman &amp;  Chief Executive Officer</td>\n",
       "      <td>Energy</td>\n",
       "      <td>Petroleum Refining</td>\n",
       "      <td>24.0</td>\n",
       "      <td>Irving</td>\n",
       "      <td>TX</td>\n",
       "      <td>32.81402</td>\n",
       "      <td>(96.94889)</td>\n",
       "    </tr>\n",
       "    <tr>\n",
       "      <th>2</th>\n",
       "      <td>3</td>\n",
       "      <td>Berkshire Hathaway</td>\n",
       "      <td>2.0</td>\n",
       "      <td>$242,137.00</td>\n",
       "      <td>8%</td>\n",
       "      <td>$44,940.00</td>\n",
       "      <td>87%</td>\n",
       "      <td>$702,095.00</td>\n",
       "      <td>$492,008.00</td>\n",
       "      <td>377000</td>\n",
       "      <td>Warren E. Buffett</td>\n",
       "      <td>Chairman, President &amp;  Chief Executive Officer</td>\n",
       "      <td>Financials</td>\n",
       "      <td>Insurance: Property and Casualty (Stock)</td>\n",
       "      <td>24.0</td>\n",
       "      <td>Omaha</td>\n",
       "      <td>NE</td>\n",
       "      <td>41.25654</td>\n",
       "      <td>(95.93450)</td>\n",
       "    </tr>\n",
       "  </tbody>\n",
       "</table>\n",
       "</div>"
      ],
      "text/plain": [
       "   Rank               Title  Previous Rank  Revenues ($M)  Revenue Change  \\\n",
       "0     1             Walmart            1.0    $500,343.00              3%   \n",
       "1     2         Exxon Mobil            4.0    $244,363.00             17%   \n",
       "2     3  Berkshire Hathaway            2.0    $242,137.00              8%   \n",
       "\n",
       "   Profits ($M)  Profit Change   Assets ($M)   Mkt Value as of 3/29/18 ($M)   \\\n",
       "0     $9,862.00           -28%   $204,522.00                    $263,563.00    \n",
       "1    $19,710.00           151%   $348,691.00                    $316,157.00    \n",
       "2    $44,940.00            87%   $702,095.00                    $492,008.00    \n",
       "\n",
       "   Employees                  CEO  \\\n",
       "0    2300000  C. Douglas McMillon   \n",
       "1      71200      Darren W. Woods   \n",
       "2     377000    Warren E. Buffett   \n",
       "\n",
       "                                        CEO Title      Sector  \\\n",
       "0  President, Chief Executive Officer &  Director   Retailing   \n",
       "1             Chairman &  Chief Executive Officer      Energy   \n",
       "2  Chairman, President &  Chief Executive Officer  Financials   \n",
       "\n",
       "                                   Industry  Years on Fortune 500 List  \\\n",
       "0                     General Merchandisers                       24.0   \n",
       "1                        Petroleum Refining                       24.0   \n",
       "2  Insurance: Property and Casualty (Stock)                       24.0   \n",
       "\n",
       "          City State   Latitude    Longitude   \n",
       "0  Bentonville    AR    36.37285   (94.20882)  \n",
       "1       Irving    TX    32.81402   (96.94889)  \n",
       "2        Omaha    NE    41.25654   (95.93450)  "
      ]
     },
     "execution_count": 3,
     "metadata": {},
     "output_type": "execute_result"
    }
   ],
   "source": [
    "f1000.head(3)"
   ]
  },
  {
   "cell_type": "markdown",
   "metadata": {},
   "source": [
    "Observations:\n",
    "- column names (header) contain spaces\n",
    "- 'money' columns (revenues, profits, ...) to be changed to a numeric type\n",
    "- 'change' columns (revenue change, profit change, ...) also to be changed to a numeric type\n",
    "- `previous rank` might be converted to a integer\n",
    "- check `sector` and `industry`, values should be lists\n",
    "- check `city` and `state`\n",
    "- check spatial coordinates, values should be numeric"
   ]
  },
  {
   "cell_type": "markdown",
   "metadata": {},
   "source": [
    "## 2) Data cleansing"
   ]
  },
  {
   "cell_type": "markdown",
   "metadata": {},
   "source": [
    "### 2.1) header"
   ]
  },
  {
   "cell_type": "markdown",
   "metadata": {},
   "source": [
    "We modify the header such that\n",
    "- the column names are all lower case,\n",
    "- leading and trailing spaces are removed, and\n",
    "- spaces between words are replaced by underscores\n",
    "\n",
    "Note: additional modifications are done below"
   ]
  },
  {
   "cell_type": "code",
   "execution_count": 4,
   "metadata": {
    "collapsed": true
   },
   "outputs": [],
   "source": [
    "f1000.rename(columns = lambda x: x.lower().strip().replace(' ', '_'), inplace = True)"
   ]
  },
  {
   "cell_type": "markdown",
   "metadata": {},
   "source": [
    "### 2.2) columns: rank, title, and previous rank"
   ]
  },
  {
   "cell_type": "code",
   "execution_count": 5,
   "metadata": {
    "collapsed": true
   },
   "outputs": [],
   "source": [
    "# rename the 'previous rank' column\n",
    "f1000.rename(columns = {'previous_rank':'prev_rank'}, inplace = True)"
   ]
  },
  {
   "cell_type": "code",
   "execution_count": 6,
   "metadata": {},
   "outputs": [
    {
     "data": {
      "text/plain": [
       "count    1000.000000\n",
       "mean      500.499000\n",
       "std       288.818771\n",
       "min         1.000000\n",
       "25%       250.750000\n",
       "50%       500.500000\n",
       "75%       750.250000\n",
       "max      1000.000000\n",
       "Name: rank, dtype: float64"
      ]
     },
     "execution_count": 6,
     "metadata": {},
     "output_type": "execute_result"
    }
   ],
   "source": [
    "f1000['rank'].describe()"
   ]
  },
  {
   "cell_type": "code",
   "execution_count": 7,
   "metadata": {},
   "outputs": [
    {
     "data": {
      "text/plain": [
       "692     2\n",
       "1000    1\n",
       "327     1\n",
       "340     1\n",
       "339     1\n",
       "Name: rank, dtype: int64"
      ]
     },
     "execution_count": 7,
     "metadata": {},
     "output_type": "execute_result"
    }
   ],
   "source": [
    "f1000['rank'].value_counts().head()"
   ]
  },
  {
   "cell_type": "code",
   "execution_count": 8,
   "metadata": {},
   "outputs": [
    {
     "data": {
      "text/html": [
       "<div>\n",
       "<style>\n",
       "    .dataframe thead tr:only-child th {\n",
       "        text-align: right;\n",
       "    }\n",
       "\n",
       "    .dataframe thead th {\n",
       "        text-align: left;\n",
       "    }\n",
       "\n",
       "    .dataframe tbody tr th {\n",
       "        vertical-align: top;\n",
       "    }\n",
       "</style>\n",
       "<table border=\"1\" class=\"dataframe\">\n",
       "  <thead>\n",
       "    <tr style=\"text-align: right;\">\n",
       "      <th></th>\n",
       "      <th>rank</th>\n",
       "      <th>title</th>\n",
       "      <th>prev_rank</th>\n",
       "      <th>revenues_($m)</th>\n",
       "      <th>revenue_change</th>\n",
       "      <th>profits_($m)</th>\n",
       "      <th>profit_change</th>\n",
       "      <th>assets_($m)</th>\n",
       "      <th>mkt_value_as_of_3/29/18_($m)</th>\n",
       "      <th>employees</th>\n",
       "      <th>ceo</th>\n",
       "      <th>ceo_title</th>\n",
       "      <th>sector</th>\n",
       "      <th>industry</th>\n",
       "      <th>years_on_fortune_500_list</th>\n",
       "      <th>city</th>\n",
       "      <th>state</th>\n",
       "      <th>latitude</th>\n",
       "      <th>longitude</th>\n",
       "    </tr>\n",
       "  </thead>\n",
       "  <tbody>\n",
       "    <tr>\n",
       "      <th>691</th>\n",
       "      <td>692</td>\n",
       "      <td>Brinks</td>\n",
       "      <td>730.0</td>\n",
       "      <td>$3,347.00</td>\n",
       "      <td>11%</td>\n",
       "      <td>$16.70</td>\n",
       "      <td>-52%</td>\n",
       "      <td>$3,060.00</td>\n",
       "      <td>$3,609.00</td>\n",
       "      <td>62150</td>\n",
       "      <td>Douglas A. Pertz</td>\n",
       "      <td>President, Chief Executive Officer &amp;  Director</td>\n",
       "      <td>Business Services</td>\n",
       "      <td>Diversified Outsourcing Services</td>\n",
       "      <td>NaN</td>\n",
       "      <td>Richmond</td>\n",
       "      <td>VA</td>\n",
       "      <td>37.54072</td>\n",
       "      <td>(77.43605)</td>\n",
       "    </tr>\n",
       "    <tr>\n",
       "      <th>692</th>\n",
       "      <td>692</td>\n",
       "      <td>Meritor</td>\n",
       "      <td>730.0</td>\n",
       "      <td>$3,347.00</td>\n",
       "      <td>11%</td>\n",
       "      <td>$16.70</td>\n",
       "      <td>-52%</td>\n",
       "      <td>$3,060.00</td>\n",
       "      <td>$3,609.00</td>\n",
       "      <td>62150</td>\n",
       "      <td>Douglas A. Pertz</td>\n",
       "      <td>President, Chief Executive Officer &amp;  Director</td>\n",
       "      <td>Business Services</td>\n",
       "      <td>Diversified Outsourcing Services</td>\n",
       "      <td>NaN</td>\n",
       "      <td>Richmond</td>\n",
       "      <td>VA</td>\n",
       "      <td>37.54072</td>\n",
       "      <td>(77.43605)</td>\n",
       "    </tr>\n",
       "  </tbody>\n",
       "</table>\n",
       "</div>"
      ],
      "text/plain": [
       "     rank    title  prev_rank revenues_($m) revenue_change profits_($m)  \\\n",
       "691   692   Brinks      730.0    $3,347.00             11%      $16.70    \n",
       "692   692  Meritor      730.0    $3,347.00             11%      $16.70    \n",
       "\n",
       "    profit_change  assets_($m) mkt_value_as_of_3/29/18_($m)  employees  \\\n",
       "691          -52%   $3,060.00                    $3,609.00       62150   \n",
       "692          -52%   $3,060.00                    $3,609.00       62150   \n",
       "\n",
       "                  ceo                                       ceo_title  \\\n",
       "691  Douglas A. Pertz  President, Chief Executive Officer &  Director   \n",
       "692  Douglas A. Pertz  President, Chief Executive Officer &  Director   \n",
       "\n",
       "                sector                          industry  \\\n",
       "691  Business Services  Diversified Outsourcing Services   \n",
       "692  Business Services  Diversified Outsourcing Services   \n",
       "\n",
       "     years_on_fortune_500_list      city state  latitude    longitude  \n",
       "691                        NaN  Richmond    VA  37.54072   (77.43605)  \n",
       "692                        NaN  Richmond    VA  37.54072   (77.43605)  "
      ]
     },
     "execution_count": 8,
     "metadata": {},
     "output_type": "execute_result"
    }
   ],
   "source": [
    "f1000[f1000['rank']==692]"
   ]
  },
  {
   "cell_type": "code",
   "execution_count": 9,
   "metadata": {},
   "outputs": [
    {
     "data": {
      "text/plain": [
       "count                               1000\n",
       "unique                              1000\n",
       "top       Expeditors Intl. of Washington\n",
       "freq                                   1\n",
       "Name: title, dtype: object"
      ]
     },
     "execution_count": 9,
     "metadata": {},
     "output_type": "execute_result"
    }
   ],
   "source": [
    "f1000['title'].describe()"
   ]
  },
  {
   "cell_type": "code",
   "execution_count": 10,
   "metadata": {},
   "outputs": [
    {
     "data": {
      "text/plain": [
       "count    937.000000\n",
       "mean     485.988260\n",
       "std      284.697048\n",
       "min        1.000000\n",
       "25%      239.000000\n",
       "50%      481.000000\n",
       "75%      731.000000\n",
       "max      996.000000\n",
       "Name: prev_rank, dtype: float64"
      ]
     },
     "execution_count": 10,
     "metadata": {},
     "output_type": "execute_result"
    }
   ],
   "source": [
    "f1000['prev_rank'].describe()"
   ]
  },
  {
   "cell_type": "code",
   "execution_count": 11,
   "metadata": {},
   "outputs": [
    {
     "data": {
      "text/plain": [
       "63"
      ]
     },
     "execution_count": 11,
     "metadata": {},
     "output_type": "execute_result"
    }
   ],
   "source": [
    "len(f1000[f1000['prev_rank'].isnull()])\n",
    "#f1000[f1000['prev_rank'].isnull()].shape[0]"
   ]
  },
  {
   "cell_type": "code",
   "execution_count": 12,
   "metadata": {},
   "outputs": [
    {
     "data": {
      "text/plain": [
       "730.0    2\n",
       "403.0    2\n",
       "306.0    2\n",
       "941.0    1\n",
       "844.0    1\n",
       "Name: prev_rank, dtype: int64"
      ]
     },
     "execution_count": 12,
     "metadata": {},
     "output_type": "execute_result"
    }
   ],
   "source": [
    "f1000['prev_rank'].value_counts().head()"
   ]
  },
  {
   "cell_type": "markdown",
   "metadata": {},
   "source": [
    "conclusion:\n",
    "- `title` is unique and we can use it as an index\n",
    "- `rank` has duplicates\n",
    "- Brinks and Meritor show identical values (except title) and are both ranked equally (692)\n",
    "- `previous rank` has 63 nulls (NaN) and duplicates\n",
    "- `previous rank`'s datatype is float (not integer) as NaN is treated as a float\n",
    "- pandas supports nullable integer data types experimentally (version 0.24.0)"
   ]
  },
  {
   "cell_type": "markdown",
   "metadata": {},
   "source": [
    "### 2.3) index\n",
    "We didn't set an index to the dataframe, so we can slice in the row-dimension only by row number (the order the file has been read). We'll set an index on the `title` column to enable slicing by title. Remember, there are duplicates in the `rank` column. Thus, we cannot use this column as index."
   ]
  },
  {
   "cell_type": "code",
   "execution_count": 13,
   "metadata": {},
   "outputs": [
    {
     "name": "stdout",
     "output_type": "stream",
     "text": [
      "index before modification:\n",
      "RangeIndex(start=0, stop=1000, step=1)\n",
      "\n",
      "index after modification:\n",
      "Index(['Walmart', 'Exxon Mobil', 'Berkshire Hathaway', 'Apple',\n",
      "       'UnitedHealth Group', 'McKesson', 'CVS Health', 'Amazon.com', 'AT&T',\n",
      "       'General Motors',\n",
      "       ...\n",
      "       'Superior Energy Services', 'VeriFone Systems', 'Childrens Place',\n",
      "       'Tribune Media', 'Healthcare Services Group',\n",
      "       'SiteOne Landscape Supply', 'Charles River Laboratories Intl',\n",
      "       'CoreLogic', 'Ensign Group', 'HCP'],\n",
      "      dtype='object', name='title', length=1000)\n"
     ]
    }
   ],
   "source": [
    "print('index before modification:\\n{0}'.format(f1000.index))\n",
    "f1000.set_index('title', verify_integrity = True, inplace = True)\n",
    "#f1000.set_index('rank', inplace=True, verify_integrity=True) # runs in an error due to duplicates\n",
    "#f1000.reset_index(inplace=True)\n",
    "print('\\nindex after modification:\\n{0}'.format(f1000.index))"
   ]
  },
  {
   "cell_type": "code",
   "execution_count": 14,
   "metadata": {},
   "outputs": [
    {
     "data": {
      "text/html": [
       "<div>\n",
       "<style>\n",
       "    .dataframe thead tr:only-child th {\n",
       "        text-align: right;\n",
       "    }\n",
       "\n",
       "    .dataframe thead th {\n",
       "        text-align: left;\n",
       "    }\n",
       "\n",
       "    .dataframe tbody tr th {\n",
       "        vertical-align: top;\n",
       "    }\n",
       "</style>\n",
       "<table border=\"1\" class=\"dataframe\">\n",
       "  <thead>\n",
       "    <tr style=\"text-align: right;\">\n",
       "      <th></th>\n",
       "      <th>title</th>\n",
       "      <th>sector</th>\n",
       "    </tr>\n",
       "    <tr>\n",
       "      <th>title</th>\n",
       "      <th></th>\n",
       "      <th></th>\n",
       "    </tr>\n",
       "  </thead>\n",
       "  <tbody>\n",
       "    <tr>\n",
       "      <th>Walmart</th>\n",
       "      <td>NaN</td>\n",
       "      <td>Retailing</td>\n",
       "    </tr>\n",
       "    <tr>\n",
       "      <th>Exxon Mobil</th>\n",
       "      <td>NaN</td>\n",
       "      <td>Energy</td>\n",
       "    </tr>\n",
       "    <tr>\n",
       "      <th>Berkshire Hathaway</th>\n",
       "      <td>NaN</td>\n",
       "      <td>Financials</td>\n",
       "    </tr>\n",
       "    <tr>\n",
       "      <th>Apple</th>\n",
       "      <td>NaN</td>\n",
       "      <td>Technology</td>\n",
       "    </tr>\n",
       "  </tbody>\n",
       "</table>\n",
       "</div>"
      ],
      "text/plain": [
       "                    title      sector\n",
       "title                                \n",
       "Walmart               NaN   Retailing\n",
       "Exxon Mobil           NaN      Energy\n",
       "Berkshire Hathaway    NaN  Financials\n",
       "Apple                 NaN  Technology"
      ]
     },
     "execution_count": 14,
     "metadata": {},
     "output_type": "execute_result"
    }
   ],
   "source": [
    "# example: slice by title\n",
    "f1000.loc['Walmart':'Apple', ['title', 'sector']]"
   ]
  },
  {
   "cell_type": "markdown",
   "metadata": {
    "collapsed": true
   },
   "source": [
    "Note: `title` is now the index and no regular column anymore (see `drop` parameter in `df.set_index`)"
   ]
  },
  {
   "cell_type": "markdown",
   "metadata": {},
   "source": [
    "### 2.4) monetary columns and changes"
   ]
  },
  {
   "cell_type": "code",
   "execution_count": 15,
   "metadata": {},
   "outputs": [
    {
     "data": {
      "text/plain": [
       "Index(['rank', 'prev_rank', 'revenue_usd', 'revenue_chg', 'profit_usd',\n",
       "       'profit_chg', 'asset_usd', 'mkt_value_usd', 'employees', 'ceo',\n",
       "       'ceo_title', 'sector', 'industry', 'years_on_fortune_500_list', 'city',\n",
       "       'state', 'latitude', 'longitude'],\n",
       "      dtype='object')"
      ]
     },
     "execution_count": 15,
     "metadata": {},
     "output_type": "execute_result"
    }
   ],
   "source": [
    "# rename the 'previous rank' column\n",
    "f1000.rename(columns = { \\\n",
    "    'revenues_($m)'               : 'revenue_usd', \\\n",
    "    'revenue_change'              : 'revenue_chg', \\\n",
    "    'profits_($m)'                : 'profit_usd', \\\n",
    "    'profit_change'               : 'profit_chg', \\\n",
    "    'assets_($m)'                 : 'asset_usd', \\\n",
    "    'mkt_value_as_of_3/29/18_($m)': 'mkt_value_usd'\n",
    "}, inplace = True)\n",
    "f1000.columns"
   ]
  },
  {
   "cell_type": "markdown",
   "metadata": {},
   "source": [
    "Statistics of columns before cleansing:"
   ]
  },
  {
   "cell_type": "code",
   "execution_count": 16,
   "metadata": {},
   "outputs": [
    {
     "data": {
      "text/html": [
       "<div>\n",
       "<style>\n",
       "    .dataframe thead tr:only-child th {\n",
       "        text-align: right;\n",
       "    }\n",
       "\n",
       "    .dataframe thead th {\n",
       "        text-align: left;\n",
       "    }\n",
       "\n",
       "    .dataframe tbody tr th {\n",
       "        vertical-align: top;\n",
       "    }\n",
       "</style>\n",
       "<table border=\"1\" class=\"dataframe\">\n",
       "  <thead>\n",
       "    <tr style=\"text-align: right;\">\n",
       "      <th></th>\n",
       "      <th>revenue_chg</th>\n",
       "      <th>profit_chg</th>\n",
       "      <th>revenue_usd</th>\n",
       "      <th>profit_usd</th>\n",
       "      <th>asset_usd</th>\n",
       "      <th>mkt_value_usd</th>\n",
       "    </tr>\n",
       "  </thead>\n",
       "  <tbody>\n",
       "    <tr>\n",
       "      <th>count</th>\n",
       "      <td>995</td>\n",
       "      <td>844</td>\n",
       "      <td>1000</td>\n",
       "      <td>998</td>\n",
       "      <td>1000</td>\n",
       "      <td>951</td>\n",
       "    </tr>\n",
       "    <tr>\n",
       "      <th>unique</th>\n",
       "      <td>103</td>\n",
       "      <td>324</td>\n",
       "      <td>951</td>\n",
       "      <td>971</td>\n",
       "      <td>973</td>\n",
       "      <td>922</td>\n",
       "    </tr>\n",
       "    <tr>\n",
       "      <th>top</th>\n",
       "      <td>5%</td>\n",
       "      <td>28%</td>\n",
       "      <td>$2,788.00</td>\n",
       "      <td>$30.00</td>\n",
       "      <td>$1,733.00</td>\n",
       "      <td>$-</td>\n",
       "    </tr>\n",
       "    <tr>\n",
       "      <th>freq</th>\n",
       "      <td>68</td>\n",
       "      <td>12</td>\n",
       "      <td>3</td>\n",
       "      <td>2</td>\n",
       "      <td>3</td>\n",
       "      <td>5</td>\n",
       "    </tr>\n",
       "  </tbody>\n",
       "</table>\n",
       "</div>"
      ],
      "text/plain": [
       "       revenue_chg profit_chg  revenue_usd profit_usd    asset_usd  \\\n",
       "count          995        844         1000        998         1000   \n",
       "unique         103        324          951        971          973   \n",
       "top             5%        28%   $2,788.00     $30.00    $1,733.00    \n",
       "freq            68         12            3          2            3   \n",
       "\n",
       "       mkt_value_usd  \n",
       "count            951  \n",
       "unique           922  \n",
       "top            $-     \n",
       "freq               5  "
      ]
     },
     "execution_count": 16,
     "metadata": {},
     "output_type": "execute_result"
    }
   ],
   "source": [
    "f1000[['revenue_chg', 'profit_chg', 'revenue_usd', 'profit_usd', 'asset_usd', 'mkt_value_usd']].describe()"
   ]
  },
  {
   "cell_type": "code",
   "execution_count": 17,
   "metadata": {
    "collapsed": true
   },
   "outputs": [],
   "source": [
    "#f1000['revenue_chg'].unique()\n",
    "#f1000['profit_chg'].unique()"
   ]
  },
  {
   "cell_type": "markdown",
   "metadata": {},
   "source": [
    "The percentage changes of revenue and profit are regular and clean. Thus, we only remove the percent sign, convert it to a float and divide it by 100."
   ]
  },
  {
   "cell_type": "code",
   "execution_count": 18,
   "metadata": {
    "collapsed": true
   },
   "outputs": [],
   "source": [
    "pct_cols = ['revenue_chg', 'profit_chg']\n",
    "for col in pct_cols:\n",
    "    f1000[col] = f1000[col].str.replace('%', '').astype(float) / 100.0"
   ]
  },
  {
   "cell_type": "code",
   "execution_count": 19,
   "metadata": {
    "collapsed": true
   },
   "outputs": [],
   "source": [
    "#f1000['revenue_usd'].unique()\n",
    "#f1000['profit_usd'].unique()\n",
    "#f1000['asset_usd'].unique()\n",
    "#f1000['mkt_value_usd'].unique()"
   ]
  },
  {
   "cell_type": "markdown",
   "metadata": {},
   "source": [
    "However, the monetary colums are dirty but regular. We have to remove all blanks, the thousands separator, and the dollar sign. No value is given as `-` (minus), we convert it to 0. Negative values are surrounded by parenthesis. We convert it using a regular expression (the pattern will be re-used later). Finally, cast the string to a float and multiply it by 1 million."
   ]
  },
  {
   "cell_type": "code",
   "execution_count": 20,
   "metadata": {
    "collapsed": true
   },
   "outputs": [],
   "source": [
    "money_cols = ['revenue_usd', 'profit_usd', 'asset_usd', 'mkt_value_usd']\n",
    "re_pat_negnum = r'^\\((?P<nbr>[0-9\\.]+)\\)$'\n",
    "re_repl_negnum = lambda m: '-' + m.group('nbr')\n",
    "for col in money_cols:\n",
    "    f1000[col] = f1000[col].str.replace(' ', '').str.replace(',', '').str.replace('$', '').str.replace('-', '0')\n",
    "    f1000[col] = f1000[col].str.replace(re_pat_negnum, re_repl_negnum).astype(float) * 1000000.0"
   ]
  },
  {
   "cell_type": "markdown",
   "metadata": {},
   "source": [
    "Statistics of columns after cleansing:"
   ]
  },
  {
   "cell_type": "code",
   "execution_count": 21,
   "metadata": {},
   "outputs": [
    {
     "data": {
      "text/html": [
       "<div>\n",
       "<style>\n",
       "    .dataframe thead tr:only-child th {\n",
       "        text-align: right;\n",
       "    }\n",
       "\n",
       "    .dataframe thead th {\n",
       "        text-align: left;\n",
       "    }\n",
       "\n",
       "    .dataframe tbody tr th {\n",
       "        vertical-align: top;\n",
       "    }\n",
       "</style>\n",
       "<table border=\"1\" class=\"dataframe\">\n",
       "  <thead>\n",
       "    <tr style=\"text-align: right;\">\n",
       "      <th></th>\n",
       "      <th>revenue_chg</th>\n",
       "      <th>profit_chg</th>\n",
       "      <th>revenue_usd</th>\n",
       "      <th>profit_usd</th>\n",
       "      <th>asset_usd</th>\n",
       "      <th>mkt_value_usd</th>\n",
       "    </tr>\n",
       "  </thead>\n",
       "  <tbody>\n",
       "    <tr>\n",
       "      <th>count</th>\n",
       "      <td>995.000000</td>\n",
       "      <td>844.000000</td>\n",
       "      <td>1.000000e+03</td>\n",
       "      <td>9.980000e+02</td>\n",
       "      <td>1.000000e+03</td>\n",
       "      <td>9.510000e+02</td>\n",
       "    </tr>\n",
       "    <tr>\n",
       "      <th>mean</th>\n",
       "      <td>0.114613</td>\n",
       "      <td>0.276623</td>\n",
       "      <td>1.437820e+10</td>\n",
       "      <td>1.111773e+09</td>\n",
       "      <td>4.602315e+10</td>\n",
       "      <td>2.625751e+10</td>\n",
       "    </tr>\n",
       "    <tr>\n",
       "      <th>std</th>\n",
       "      <td>0.332751</td>\n",
       "      <td>6.035319</td>\n",
       "      <td>3.083585e+10</td>\n",
       "      <td>3.477028e+09</td>\n",
       "      <td>1.992486e+11</td>\n",
       "      <td>6.602655e+10</td>\n",
       "    </tr>\n",
       "    <tr>\n",
       "      <th>min</th>\n",
       "      <td>-0.420000</td>\n",
       "      <td>-117.000000</td>\n",
       "      <td>1.848000e+09</td>\n",
       "      <td>-6.798000e+09</td>\n",
       "      <td>4.790000e+08</td>\n",
       "      <td>0.000000e+00</td>\n",
       "    </tr>\n",
       "    <tr>\n",
       "      <th>25%</th>\n",
       "      <td>0.020000</td>\n",
       "      <td>-0.212500</td>\n",
       "      <td>2.886500e+09</td>\n",
       "      <td>9.690000e+07</td>\n",
       "      <td>3.498250e+09</td>\n",
       "      <td>3.070000e+09</td>\n",
       "    </tr>\n",
       "    <tr>\n",
       "      <th>50%</th>\n",
       "      <td>0.060000</td>\n",
       "      <td>0.110000</td>\n",
       "      <td>5.417000e+09</td>\n",
       "      <td>3.210500e+08</td>\n",
       "      <td>8.370500e+09</td>\n",
       "      <td>8.523000e+09</td>\n",
       "    </tr>\n",
       "    <tr>\n",
       "      <th>75%</th>\n",
       "      <td>0.130000</td>\n",
       "      <td>0.570000</td>\n",
       "      <td>1.210875e+10</td>\n",
       "      <td>9.714500e+08</td>\n",
       "      <td>2.371225e+10</td>\n",
       "      <td>2.159350e+10</td>\n",
       "    </tr>\n",
       "    <tr>\n",
       "      <th>max</th>\n",
       "      <td>6.130000</td>\n",
       "      <td>105.570000</td>\n",
       "      <td>5.003430e+11</td>\n",
       "      <td>4.835100e+10</td>\n",
       "      <td>3.345529e+12</td>\n",
       "      <td>8.513180e+11</td>\n",
       "    </tr>\n",
       "  </tbody>\n",
       "</table>\n",
       "</div>"
      ],
      "text/plain": [
       "       revenue_chg  profit_chg   revenue_usd    profit_usd     asset_usd  \\\n",
       "count   995.000000  844.000000  1.000000e+03  9.980000e+02  1.000000e+03   \n",
       "mean      0.114613    0.276623  1.437820e+10  1.111773e+09  4.602315e+10   \n",
       "std       0.332751    6.035319  3.083585e+10  3.477028e+09  1.992486e+11   \n",
       "min      -0.420000 -117.000000  1.848000e+09 -6.798000e+09  4.790000e+08   \n",
       "25%       0.020000   -0.212500  2.886500e+09  9.690000e+07  3.498250e+09   \n",
       "50%       0.060000    0.110000  5.417000e+09  3.210500e+08  8.370500e+09   \n",
       "75%       0.130000    0.570000  1.210875e+10  9.714500e+08  2.371225e+10   \n",
       "max       6.130000  105.570000  5.003430e+11  4.835100e+10  3.345529e+12   \n",
       "\n",
       "       mkt_value_usd  \n",
       "count   9.510000e+02  \n",
       "mean    2.625751e+10  \n",
       "std     6.602655e+10  \n",
       "min     0.000000e+00  \n",
       "25%     3.070000e+09  \n",
       "50%     8.523000e+09  \n",
       "75%     2.159350e+10  \n",
       "max     8.513180e+11  "
      ]
     },
     "execution_count": 21,
     "metadata": {},
     "output_type": "execute_result"
    }
   ],
   "source": [
    "f1000[['revenue_chg', 'profit_chg', 'revenue_usd', 'profit_usd', 'asset_usd', 'mkt_value_usd']].describe()"
   ]
  },
  {
   "cell_type": "markdown",
   "metadata": {},
   "source": [
    "### 2.5) location: latitude, longitude"
   ]
  },
  {
   "cell_type": "markdown",
   "metadata": {},
   "source": [
    "The latitude already is recognised as a float, longitude has to be converted."
   ]
  },
  {
   "cell_type": "code",
   "execution_count": 22,
   "metadata": {},
   "outputs": [
    {
     "name": "stdout",
     "output_type": "stream",
     "text": [
      "<class 'pandas.core.frame.DataFrame'>\n",
      "Index: 1000 entries, Walmart to HCP\n",
      "Data columns (total 2 columns):\n",
      "latitude     1000 non-null float64\n",
      "longitude    1000 non-null object\n",
      "dtypes: float64(1), object(1)\n",
      "memory usage: 23.4+ KB\n"
     ]
    }
   ],
   "source": [
    "f1000[['latitude', 'longitude']].info()"
   ]
  },
  {
   "cell_type": "code",
   "execution_count": 23,
   "metadata": {},
   "outputs": [],
   "source": [
    "# re-use the regular expression pattern for negative numbers surrounded by paranthesis\n",
    "f1000['longitude'] = f1000['longitude'].str.strip().str.replace(re_pat_negnum, re_repl_negnum).astype(float)"
   ]
  },
  {
   "cell_type": "code",
   "execution_count": 24,
   "metadata": {},
   "outputs": [
    {
     "data": {
      "text/html": [
       "<div>\n",
       "<style>\n",
       "    .dataframe thead tr:only-child th {\n",
       "        text-align: right;\n",
       "    }\n",
       "\n",
       "    .dataframe thead th {\n",
       "        text-align: left;\n",
       "    }\n",
       "\n",
       "    .dataframe tbody tr th {\n",
       "        vertical-align: top;\n",
       "    }\n",
       "</style>\n",
       "<table border=\"1\" class=\"dataframe\">\n",
       "  <thead>\n",
       "    <tr style=\"text-align: right;\">\n",
       "      <th></th>\n",
       "      <th>latitude</th>\n",
       "      <th>longitude</th>\n",
       "    </tr>\n",
       "  </thead>\n",
       "  <tbody>\n",
       "    <tr>\n",
       "      <th>count</th>\n",
       "      <td>1000.000000</td>\n",
       "      <td>1000.000000</td>\n",
       "    </tr>\n",
       "    <tr>\n",
       "      <th>mean</th>\n",
       "      <td>38.228050</td>\n",
       "      <td>-90.359699</td>\n",
       "    </tr>\n",
       "    <tr>\n",
       "      <th>std</th>\n",
       "      <td>4.643421</td>\n",
       "      <td>16.145941</td>\n",
       "    </tr>\n",
       "    <tr>\n",
       "      <th>min</th>\n",
       "      <td>18.422580</td>\n",
       "      <td>-157.858330</td>\n",
       "    </tr>\n",
       "    <tr>\n",
       "      <th>25%</th>\n",
       "      <td>35.207700</td>\n",
       "      <td>-96.698890</td>\n",
       "    </tr>\n",
       "    <tr>\n",
       "      <th>50%</th>\n",
       "      <td>39.693420</td>\n",
       "      <td>-86.583760</td>\n",
       "    </tr>\n",
       "    <tr>\n",
       "      <th>75%</th>\n",
       "      <td>41.499320</td>\n",
       "      <td>-77.177260</td>\n",
       "    </tr>\n",
       "    <tr>\n",
       "      <th>max</th>\n",
       "      <td>47.978980</td>\n",
       "      <td>-66.050950</td>\n",
       "    </tr>\n",
       "  </tbody>\n",
       "</table>\n",
       "</div>"
      ],
      "text/plain": [
       "          latitude    longitude\n",
       "count  1000.000000  1000.000000\n",
       "mean     38.228050   -90.359699\n",
       "std       4.643421    16.145941\n",
       "min      18.422580  -157.858330\n",
       "25%      35.207700   -96.698890\n",
       "50%      39.693420   -86.583760\n",
       "75%      41.499320   -77.177260\n",
       "max      47.978980   -66.050950"
      ]
     },
     "execution_count": 24,
     "metadata": {},
     "output_type": "execute_result"
    }
   ],
   "source": [
    "f1000[['latitude', 'longitude']].describe()"
   ]
  },
  {
   "cell_type": "markdown",
   "metadata": {},
   "source": [
    "### 2.6) location: city and state"
   ]
  },
  {
   "cell_type": "code",
   "execution_count": 25,
   "metadata": {},
   "outputs": [
    {
     "data": {
      "text/html": [
       "<div>\n",
       "<style>\n",
       "    .dataframe thead tr:only-child th {\n",
       "        text-align: right;\n",
       "    }\n",
       "\n",
       "    .dataframe thead th {\n",
       "        text-align: left;\n",
       "    }\n",
       "\n",
       "    .dataframe tbody tr th {\n",
       "        vertical-align: top;\n",
       "    }\n",
       "</style>\n",
       "<table border=\"1\" class=\"dataframe\">\n",
       "  <thead>\n",
       "    <tr style=\"text-align: right;\">\n",
       "      <th></th>\n",
       "      <th>city</th>\n",
       "      <th>state</th>\n",
       "    </tr>\n",
       "  </thead>\n",
       "  <tbody>\n",
       "    <tr>\n",
       "      <th>count</th>\n",
       "      <td>999</td>\n",
       "      <td>1000</td>\n",
       "    </tr>\n",
       "    <tr>\n",
       "      <th>unique</th>\n",
       "      <td>400</td>\n",
       "      <td>46</td>\n",
       "    </tr>\n",
       "    <tr>\n",
       "      <th>top</th>\n",
       "      <td>New York</td>\n",
       "      <td>CA</td>\n",
       "    </tr>\n",
       "    <tr>\n",
       "      <th>freq</th>\n",
       "      <td>70</td>\n",
       "      <td>118</td>\n",
       "    </tr>\n",
       "  </tbody>\n",
       "</table>\n",
       "</div>"
      ],
      "text/plain": [
       "            city state\n",
       "count        999  1000\n",
       "unique       400    46\n",
       "top     New York    CA\n",
       "freq          70   118"
      ]
     },
     "execution_count": 25,
     "metadata": {},
     "output_type": "execute_result"
    }
   ],
   "source": [
    "f1000[['city', 'state']].describe()\n",
    "#f1000[f1000['city'].isnull()]"
   ]
  },
  {
   "cell_type": "code",
   "execution_count": 26,
   "metadata": {},
   "outputs": [
    {
     "data": {
      "text/plain": [
       "array(['Bentonville', 'Irving', 'Omaha', 'Cupertino', 'Minnetonka'], dtype=object)"
      ]
     },
     "execution_count": 26,
     "metadata": {},
     "output_type": "execute_result"
    }
   ],
   "source": [
    "f1000['city'].unique()[0:5]"
   ]
  },
  {
   "cell_type": "code",
   "execution_count": 27,
   "metadata": {},
   "outputs": [
    {
     "data": {
      "text/plain": [
       "New York    70\n",
       "Houston     39\n",
       "Chicago     27\n",
       "Atlanta     21\n",
       "Dallas      16\n",
       "Name: city, dtype: int64"
      ]
     },
     "execution_count": 27,
     "metadata": {},
     "output_type": "execute_result"
    }
   ],
   "source": [
    "f1000['city'].value_counts().head()"
   ]
  },
  {
   "cell_type": "code",
   "execution_count": 28,
   "metadata": {},
   "outputs": [
    {
     "data": {
      "text/plain": [
       "array(['AR', 'TX', 'NE', 'CA', 'MN', 'RI', 'WA', 'MI', 'PA', 'OH', 'NY',\n",
       "       'MA', 'IL', 'GA', 'NC', 'MO', 'IN', 'NJ', 'VA', 'Michigan', 'CT',\n",
       "       'TN', 'ID', 'KY', 'MD', 'FL', 'OR', 'WI', 'CO', 'AZ', 'LA', 'IA',\n",
       "       'OK', 'NV', 'KS', 'DE', 'AL', 'SC', 'ND', 'MS', 'UT', 'Puerto Rico',\n",
       "       'NH', 'HI', 'VT', 'ME'], dtype=object)"
      ]
     },
     "execution_count": 28,
     "metadata": {},
     "output_type": "execute_result"
    }
   ],
   "source": [
    "f1000['state'].unique()"
   ]
  },
  {
   "cell_type": "markdown",
   "metadata": {},
   "source": [
    "We will convert `Michigan` to `MI` and show `Puerto Rico` as a country."
   ]
  },
  {
   "cell_type": "code",
   "execution_count": 29,
   "metadata": {
    "collapsed": true
   },
   "outputs": [],
   "source": [
    "f1000['country'] = 'USA'\n",
    "f1000.loc[f1000['state']=='Puerto Rico', 'country'] = 'Puerto Rico'\n",
    "f1000.loc[f1000['state']=='Michigan',    'state']   = 'MI'\n",
    "f1000.loc[f1000['state']=='Puerto Rico', 'state']   = np.nan"
   ]
  },
  {
   "cell_type": "code",
   "execution_count": 30,
   "metadata": {},
   "outputs": [
    {
     "data": {
      "text/plain": [
       "array(['AR', 'TX', 'NE', 'CA', 'MN', 'RI', 'WA', 'MI', 'PA', 'OH', 'NY',\n",
       "       'MA', 'IL', 'GA', 'NC', 'MO', 'IN', 'NJ', 'VA', 'CT', 'TN', 'ID',\n",
       "       'KY', 'MD', 'FL', 'OR', 'WI', 'CO', 'AZ', 'LA', 'IA', 'OK', 'NV',\n",
       "       'KS', 'DE', 'AL', 'SC', 'ND', 'MS', 'UT', nan, 'NH', 'HI', 'VT',\n",
       "       'ME'], dtype=object)"
      ]
     },
     "execution_count": 30,
     "metadata": {},
     "output_type": "execute_result"
    }
   ],
   "source": [
    "f1000['state'].unique()"
   ]
  },
  {
   "cell_type": "code",
   "execution_count": 31,
   "metadata": {},
   "outputs": [
    {
     "data": {
      "text/plain": [
       "array(['USA', 'Puerto Rico'], dtype=object)"
      ]
     },
     "execution_count": 31,
     "metadata": {},
     "output_type": "execute_result"
    }
   ],
   "source": [
    "f1000['country'].unique()"
   ]
  },
  {
   "cell_type": "code",
   "execution_count": 32,
   "metadata": {},
   "outputs": [
    {
     "data": {
      "text/plain": [
       "array([nan], dtype=object)"
      ]
     },
     "execution_count": 32,
     "metadata": {},
     "output_type": "execute_result"
    }
   ],
   "source": [
    "f1000.loc[f1000['country']=='Puerto Rico', 'state'].unique()"
   ]
  },
  {
   "cell_type": "code",
   "execution_count": 33,
   "metadata": {},
   "outputs": [
    {
     "data": {
      "text/plain": [
       "array(['AR', 'TX', 'NE', 'CA', 'MN', 'RI', 'WA', 'MI', 'PA', 'OH', 'NY',\n",
       "       'MA', 'IL', 'GA', 'NC', 'MO', 'IN', 'NJ', 'VA', 'CT', 'TN', 'ID',\n",
       "       'KY', 'MD', 'FL', 'OR', 'WI', 'CO', 'AZ', 'LA', 'IA', 'OK', 'NV',\n",
       "       'KS', 'DE', 'AL', 'SC', 'ND', 'MS', 'UT', 'NH', 'HI', 'VT', 'ME'], dtype=object)"
      ]
     },
     "execution_count": 33,
     "metadata": {},
     "output_type": "execute_result"
    }
   ],
   "source": [
    "f1000.loc[f1000['country']=='USA', 'state'].unique()"
   ]
  },
  {
   "cell_type": "markdown",
   "metadata": {},
   "source": [
    "### 2.7) secotor and industry"
   ]
  },
  {
   "cell_type": "code",
   "execution_count": 34,
   "metadata": {},
   "outputs": [
    {
     "data": {
      "text/plain": [
       "Financials                        155\n",
       "Energy                            107\n",
       "Technology                        103\n",
       "Retailing                          77\n",
       "Health Care                        71\n",
       "Business Services                  53\n",
       "Industrials                        49\n",
       "Materials                          45\n",
       "Wholesalers                        44\n",
       "Transportation                     40\n",
       "Food, Beverages &  Tobacco         37\n",
       "Chemicals                          33\n",
       "Household Products                 28\n",
       "Engineering &  Construction        27\n",
       "Hotels, Restaurants &  Leisure     26\n",
       "Aerospace &  Defense               25\n",
       "Media                              25\n",
       "Motor Vehicles &  Parts            19\n",
       "Apparel                            14\n",
       "Food &  Drug Stores                12\n",
       "Telecommunications                 10\n",
       "Name: sector, dtype: int64"
      ]
     },
     "execution_count": 34,
     "metadata": {},
     "output_type": "execute_result"
    }
   ],
   "source": [
    "f1000['sector'].value_counts()"
   ]
  },
  {
   "cell_type": "code",
   "execution_count": 35,
   "metadata": {},
   "outputs": [],
   "source": [
    "f1000['sector'] = f1000['sector'].str.replace(' &  ', ' & ')"
   ]
  },
  {
   "cell_type": "code",
   "execution_count": 36,
   "metadata": {},
   "outputs": [
    {
     "data": {
      "text/plain": [
       "Utilities: Gas and Electric                       35\n",
       "Chemicals                                         33\n",
       "Specialty Retailers: Other                        31\n",
       "Insurance: Property and Casualty (Stock)          28\n",
       "Industrial Machinery                              27\n",
       "Commercial Banks                                  27\n",
       "Semiconductors and Other Electronic Components    26\n",
       "Aerospace and Defense                             25\n",
       "Mining, Crude-Oil Production                      24\n",
       "Wholesalers: Diversified                          24\n",
       "Financial Data Services                           24\n",
       "Securities                                        22\n",
       "Real estate                                       22\n",
       "Specialty Retailers: Apparel                      21\n",
       "Entertainment                                     21\n",
       "Motor Vehicles and Parts                          19\n",
       "Insurance: Life, Health (stock)                   19\n",
       "Food Consumer Products                            19\n",
       "Energy                                            18\n",
       "Diversified Financials                            18\n",
       "Medical Products and Equipment                    17\n",
       "Computer Software                                 16\n",
       "Information Technology Services                   16\n",
       "Packaging, Containers                             16\n",
       "Pharmaceuticals                                   15\n",
       "Internet Services and Retailing                   15\n",
       "Diversified Outsourcing Services                  14\n",
       "Hotels, Casinos, Resorts                          14\n",
       "Engineering, Construction                         14\n",
       "Apparel                                           14\n",
       "                                                  ..\n",
       "Home Equipment, Furnishings                       11\n",
       "General Merchandisers                             11\n",
       "Automotive Retailing, Services                    11\n",
       "Insurance: Life, Health (Mutual)                  10\n",
       "Health Care: Insurance and Managed Care           10\n",
       "Telecommunications                                10\n",
       "Insurance: Property and Casualty (Mutual)          9\n",
       "Airlines                                           9\n",
       "Food Production                                    8\n",
       "Construction and Farm Machinery                    8\n",
       "Network and Other Communications Equipment         8\n",
       "Wholesalers: Electronics and Office Equipment      8\n",
       "Beverages                                          7\n",
       "Miscellaneous                                      7\n",
       "Wholesalers: Health Care                           6\n",
       "Transportation and Logistics                       6\n",
       "Publishing, Printing                               6\n",
       "Oil and Gas Equipment, Services                    6\n",
       "Wholesalers: Food and Grocery                      6\n",
       "Transportation Equipment                           5\n",
       "Railroads                                          5\n",
       "Temporary Help                                     5\n",
       "Waste Management                                   4\n",
       "Forest and Paper Products                          4\n",
       "Tobacco                                            3\n",
       "Advertising, marketing                             2\n",
       "Shipping                                           2\n",
       "Education                                          2\n",
       "Mail, Package, and Freight Delivery                2\n",
       "Toys, Sporting Goods                               2\n",
       "Name: industry, Length: 74, dtype: int64"
      ]
     },
     "execution_count": 36,
     "metadata": {},
     "output_type": "execute_result"
    }
   ],
   "source": [
    "f1000['industry'].value_counts()"
   ]
  },
  {
   "cell_type": "markdown",
   "metadata": {},
   "source": [
    "No cleansing needed."
   ]
  },
  {
   "cell_type": "markdown",
   "metadata": {},
   "source": [
    "### 2.8) ceo and ceo title"
   ]
  },
  {
   "cell_type": "code",
   "execution_count": 37,
   "metadata": {},
   "outputs": [
    {
     "data": {
      "text/plain": [
       "Gregory B. Maffei                2\n",
       "Terry D. Bassham                 2\n",
       "Jack Dorsey                      2\n",
       "Douglas A. Pertz                 2\n",
       "Curtis A. Morgan                 2\n",
       "David M. Zaslav                  2\n",
       "Vernon J. Nagel                  1\n",
       "Kenneth A. Burdick               1\n",
       "Arne M. Sorenson                 1\n",
       "Carl S. Rubin                    1\n",
       "Paul S. Galant                   1\n",
       "Beth E. Mooney                   1\n",
       "Andrï¿½ Calantzopoulos           1\n",
       "John F. Barrett                  1\n",
       "Thomas A. Kennedy                1\n",
       "Michael H. Thaman                1\n",
       "Michael K. Wirth                 1\n",
       "Sanjay Mehrotra                  1\n",
       "Jonathan H. Weis                 1\n",
       "George J. Damiris                1\n",
       "Andrew Wilson                    1\n",
       "Ryan M. Lance                    1\n",
       "Dan L. Batrack                   1\n",
       "Gerry P. Smith                   1\n",
       "Daniel J. Crowley                1\n",
       "Donald E. Brandt                 1\n",
       "Scott C. Donnelly                1\n",
       "Mauricio Gutierrez               1\n",
       "Ronald F. Clarke                 1\n",
       "Barbara R. Smith                 1\n",
       "                                ..\n",
       "Christopher J. Swift             1\n",
       "William F. Austen                1\n",
       "Thomas A. Kingsbury              1\n",
       "Thomas E. Jorden                 1\n",
       "Gabriel Tirador                  1\n",
       "Sheryl D. Palmer                 1\n",
       "Sean M. O'Connor                 1\n",
       "John E. Fischer                  1\n",
       "Stephen J. Easterbrook           1\n",
       "Christopher T. Metz              1\n",
       "Peter A. Altabef                 1\n",
       "Daniel J. McCarthy               1\n",
       "Robert J. Eck                    1\n",
       "Michele G. Buck                  1\n",
       "Robert W. Pittman                1\n",
       "Anders Gustafsson                1\n",
       "Mark T. Bertolini                1\n",
       "Rodney O. Martin Jr.             1\n",
       "John N. Roberts III              1\n",
       "Martin Mucci                     1\n",
       "Greg D. Carmichael               1\n",
       "Robert D. Graham                 1\n",
       "William D. Nash                  1\n",
       "Kewsong Lee/Glenn A. Youngkin    1\n",
       "Robert J. Dennis                 1\n",
       "John G. Murray                   1\n",
       "Wouter T. van Kempen             1\n",
       "Timothy J. Naughton              1\n",
       "David A. Ricks                   1\n",
       "Steven L. Spinner                1\n",
       "Name: ceo, Length: 994, dtype: int64"
      ]
     },
     "execution_count": 37,
     "metadata": {},
     "output_type": "execute_result"
    }
   ],
   "source": [
    "f1000['ceo'].value_counts()"
   ]
  },
  {
   "cell_type": "code",
   "execution_count": 38,
   "metadata": {},
   "outputs": [
    {
     "data": {
      "text/plain": [
       "President, Chief Executive Officer &  Director            400\n",
       "Chairman &  Chief Executive Officer                       318\n",
       "Chairman, President &  Chief Executive Officer            208\n",
       "Chief Executive Officer &  Director                        28\n",
       "Chief Executive Officer                                    15\n",
       "Co-Chief Executive Officer &  Director                      3\n",
       "Interim Chief Executive Officer &  Director                 3\n",
       "Vice Chairman, President &  Chief Executive Officer         2\n",
       "Chairman &  Co-Chief Executive Officer                      2\n",
       "Vice Chairman &  Chief Executive Officer                    2\n",
       "Co-Chairman &  Co-Chief Executive Officer                   2\n",
       "Chairman &  Interim Chief Executive Officer                 2\n",
       "President-Campbell Snacks                                   1\n",
       "Co-Chairman &  Chief Executive Officer                      1\n",
       "CEO-SS& C Technologies Holdings                             1\n",
       "Co-Chairman, President &  Chief Executive Officer           1\n",
       "CEO-Vistra Energy                                           1\n",
       "Chairman, President &  Interim Chief Executive Officer      1\n",
       "Executive V.P.-Principal Executive Officer                  1\n",
       "CEO-Discovery                                               1\n",
       "Co-President &  Director                                    1\n",
       "Interim Chief Executive Officer                             1\n",
       "Chairwoman &  CEO                                           1\n",
       "Chairman                                                    1\n",
       "President, Co-Chief Executive Officer &  Director           1\n",
       "Chief Executive Officer &  Managing Partner                 1\n",
       "President &  Director                                       1\n",
       "Name: ceo_title, dtype: int64"
      ]
     },
     "execution_count": 38,
     "metadata": {},
     "output_type": "execute_result"
    }
   ],
   "source": [
    "f1000['ceo_title'].value_counts()"
   ]
  },
  {
   "cell_type": "code",
   "execution_count": 39,
   "metadata": {},
   "outputs": [],
   "source": [
    "f1000['ceo_title'] = f1000['ceo_title'].str.replace(' &  ', ' & ')"
   ]
  },
  {
   "cell_type": "markdown",
   "metadata": {},
   "source": [
    "### 2.9) employees"
   ]
  },
  {
   "cell_type": "code",
   "execution_count": 40,
   "metadata": {},
   "outputs": [
    {
     "data": {
      "text/plain": [
       "count    1.000000e+03\n",
       "mean     3.365251e+04\n",
       "std      9.146179e+04\n",
       "min      1.260000e+02\n",
       "25%      6.400000e+03\n",
       "50%      1.279950e+04\n",
       "75%      2.922500e+04\n",
       "max      2.300000e+06\n",
       "Name: employees, dtype: float64"
      ]
     },
     "execution_count": 40,
     "metadata": {},
     "output_type": "execute_result"
    }
   ],
   "source": [
    "f1000['employees'].describe()"
   ]
  }
 ],
 "metadata": {
  "kernelspec": {
   "display_name": "Python 3",
   "language": "python",
   "name": "python3"
  },
  "language_info": {
   "codemirror_mode": {
    "name": "ipython",
    "version": 3
   },
   "file_extension": ".py",
   "mimetype": "text/x-python",
   "name": "python",
   "nbconvert_exporter": "python",
   "pygments_lexer": "ipython3",
   "version": "3.6.3"
  }
 },
 "nbformat": 4,
 "nbformat_minor": 2
}
